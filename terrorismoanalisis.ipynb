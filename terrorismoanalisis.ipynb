{
 "cells": [
  {
   "cell_type": "code",
   "execution_count": 1,
   "metadata": {},
   "outputs": [],
   "source": [
    "# Importación de Librerías Principales para el Análisis\n",
    "import numpy as np \n",
    "import pandas as pd \n",
    "import matplotlib.pyplot as plt \n",
    "import seaborn as sb"
   ]
  },
  {
   "cell_type": "code",
   "execution_count": 2,
   "metadata": {},
   "outputs": [],
   "source": [
    "# Lectura de Dataset \n",
    "\n",
    "# Arreglo con los nombres de las columnas que tienen distintos tipos\n",
    "columnas_prob = ['approxdate', 'resolution', 'attacktype2_txt', 'attacktype3_txt', \n",
    "                 'gsubname2', 'gname3', 'gsubname3', 'claimmode2_txt',\n",
    "                 'claimmode3_txt', 'weaptype3_txt', 'weapsubtype3_txt', \n",
    "                 'weaptype4_txt', 'weapsubtype4_txt', 'divert', 'kidhijcountry', \n",
    "                 'ransomnote']\n",
    "tipos = dict.fromkeys(columnas_prob, str)\n",
    "\n",
    "# Creación de dataframe inicial en base al csv \n",
    "data_inicial = pd.read_csv(r\"./terrorism.csv\", encoding='latin', dtype=tipos)"
   ]
  },
  {
   "cell_type": "code",
   "execution_count": 3,
   "metadata": {},
   "outputs": [
    {
     "name": "stdout",
     "output_type": "stream",
     "text": [
      "(181691, 135)\n"
     ]
    }
   ],
   "source": [
    "# Dimensiones del dataset \n",
    "print(data_inicial.shape)"
   ]
  },
  {
   "cell_type": "code",
   "execution_count": 4,
   "metadata": {},
   "outputs": [
    {
     "data": {
      "text/plain": [
       "(76913, 135)"
      ]
     },
     "execution_count": 4,
     "metadata": {},
     "output_type": "execute_result"
    }
   ],
   "source": [
    "# Agarrar solo los registros del 2012 en adelante \n",
    "# Esto se hace porque START empezó a recopilar datos formalmente desde esta fecha \n",
    "# Incluso se puede verificar que el total de registros de 2012 a 2018 son el 40%, proporcionalmente no se puede comparar \n",
    "# con los registros anterirores. \n",
    "data_general = data_inicial[data_inicial['iyear'] >= 2012]\n",
    "data_general.shape"
   ]
  },
  {
   "cell_type": "code",
   "execution_count": 5,
   "metadata": {},
   "outputs": [
    {
     "name": "stderr",
     "output_type": "stream",
     "text": [
      "d:\\cs7\\machine learning models\\mlenv\\lib\\site-packages\\pandas\\core\\frame.py:4117: SettingWithCopyWarning: \n",
      "A value is trying to be set on a copy of a slice from a DataFrame\n",
      "\n",
      "See the caveats in the documentation: http://pandas.pydata.org/pandas-docs/stable/user_guide/indexing.html#returning-a-view-versus-a-copy\n",
      "  errors=errors,\n"
     ]
    },
    {
     "name": "stdout",
     "output_type": "stream",
     "text": [
      "(76913, 62)\n"
     ]
    }
   ],
   "source": [
    "# Verificar cuántos nulos hay por columna para ver si hay alguna que definitivamente hay que eliminar \n",
    "\n",
    "# Eliminación de Columnas que son completamente nulas\n",
    "# Además verifiqué cuales variables que tienen más del 60% de los datos nulos son importantes y cuales no. \n",
    "# importantes: alternative, alternative_txt, claimmode, claimmodetxt, \n",
    "todavia_no = ['alternative', 'alternative_txt']\n",
    "for i in data_general:\n",
    "    cantidad = data_general[i].isna().sum()\n",
    "    proporcion = np.round(cantidad / data_general.shape[0],2)\n",
    "    if proporcion >= 0.6 and i not in todavia_no:\n",
    "        data_general.drop(i, 1, inplace=True)\n",
    "print(data_general.shape)"
   ]
  },
  {
   "cell_type": "code",
   "execution_count": 6,
   "metadata": {},
   "outputs": [],
   "source": [
    "# Eliminar las variables que no se pueden utilizar, ej. descripciones \n",
    "data_preliminar = data_general.copy()\n",
    "pd.set_option('display.max_columns', None)\n",
    "pd.set_option('display.max_rows', None)\n",
    "data_preliminar.head(50)\n",
    "\n",
    "eliminar = ['location', 'summary', 'propcomment','scite1',\n",
    "            'scite2', 'dbsource','corp1', 'target1', 'doubtterr']\n",
    "data_preliminar.drop(eliminar, 1, inplace=True)\n",
    "\n",
    "# Tratar el tema de alternative, como esta nulo por los que son 1s en la de doubtrr, ponerle 0 a los nas \n",
    "data_preliminar.loc[data_preliminar['alternative'].isna()] = 0"
   ]
  },
  {
   "cell_type": "code",
   "execution_count": 7,
   "metadata": {},
   "outputs": [
    {
     "data": {
      "text/plain": [
       "eventid                0\n",
       "iyear                  0\n",
       "imonth                 0\n",
       "iday                   0\n",
       "extended               0\n",
       "country                0\n",
       "country_txt            0\n",
       "region                 0\n",
       "region_txt             0\n",
       "provstate              1\n",
       "city                   0\n",
       "latitude             111\n",
       "longitude            111\n",
       "specificity            0\n",
       "vicinity               0\n",
       "crit1                  0\n",
       "crit2                  0\n",
       "crit3                  0\n",
       "alternative            0\n",
       "alternative_txt        0\n",
       "multiple               0\n",
       "success                0\n",
       "suicide                0\n",
       "attacktype1            0\n",
       "attacktype1_txt        0\n",
       "targtype1              0\n",
       "targtype1_txt          0\n",
       "targsubtype1          54\n",
       "targsubtype1_txt      54\n",
       "natlty1               14\n",
       "natlty1_txt           14\n",
       "gname                  0\n",
       "guncertain1            0\n",
       "individual             0\n",
       "nperps                 0\n",
       "nperpcap               0\n",
       "claimed                0\n",
       "weaptype1              0\n",
       "weaptype1_txt          0\n",
       "weapsubtype1        1906\n",
       "weapsubtype1_txt    1906\n",
       "nkill               1082\n",
       "nkillus                9\n",
       "nkillter             825\n",
       "nwound              1772\n",
       "nwoundus              23\n",
       "nwoundte            1336\n",
       "property               0\n",
       "ishostkid              0\n",
       "INT_LOG                0\n",
       "INT_IDEO               0\n",
       "INT_MISC               0\n",
       "INT_ANY                0\n",
       "dtype: int64"
      ]
     },
     "execution_count": 7,
     "metadata": {},
     "output_type": "execute_result"
    }
   ],
   "source": [
    "data_preliminar.isna().sum()"
   ]
  },
  {
   "cell_type": "code",
   "execution_count": 8,
   "metadata": {},
   "outputs": [
    {
     "name": "stdout",
     "output_type": "stream",
     "text": [
      "Datos nulos:  0\n"
     ]
    },
    {
     "data": {
      "text/plain": [
       "(76801, 53)"
      ]
     },
     "execution_count": 8,
     "metadata": {},
     "output_type": "execute_result"
    }
   ],
   "source": [
    "# imputacion de promedio sobre las variables numericas \n",
    "numeric = ['nkill', 'nkillus', 'nkillter', 'nwound',\n",
    "           'nwoundte', 'nwoundus']\n",
    "values = {i: np.round(data_preliminar[i].mean()) for i in numeric}\n",
    "data_preliminar.fillna(value=values, inplace=True)\n",
    "\n",
    "# imputacion de categoricas con una categoria adicional \n",
    "valores = {\n",
    "    'targsubtype1': 0,\n",
    "    'targsubtype1_txt':'unknown',\n",
    "    'natlty1': 0, \n",
    "    'natlty1_txt':'unknown',\n",
    "    'weapsubtype1':0,\n",
    "    'weapsubtype1_txt':'unknown'\n",
    "}\n",
    "data_preliminar.fillna(value=valores, inplace=True)\n",
    "data_preliminar.dropna(inplace=True)\n",
    "print(\"Datos nulos: \", data_preliminar.isna().sum().sum())\n",
    "data_preliminar.shape\n",
    "# Finalmente no hay mas datos nulos"
   ]
  },
  {
   "cell_type": "code",
   "execution_count": 9,
   "metadata": {},
   "outputs": [
    {
     "name": "stdout",
     "output_type": "stream",
     "text": [
      "Datos únicos por columna\n",
      "eventid  ->  14233\n",
      "iyear  ->  7\n",
      "imonth  ->  13\n",
      "iday  ->  32\n",
      "extended  ->  2\n",
      "country  ->  95\n",
      "country_txt  ->  95\n",
      "region  ->  13\n",
      "region_txt  ->  13\n",
      "provstate  ->  635\n",
      "city  ->  5461\n",
      "latitude  ->  7598\n",
      "longitude  ->  7520\n",
      "specificity  ->  5\n",
      "vicinity  ->  2\n",
      "crit1  ->  2\n",
      "crit2  ->  2\n",
      "crit3  ->  2\n",
      "alternative  ->  6\n",
      "alternative_txt  ->  6\n",
      "multiple  ->  2\n",
      "success  ->  2\n",
      "suicide  ->  2\n",
      "attacktype1  ->  10\n",
      "attacktype1_txt  ->  10\n",
      "targtype1  ->  19\n",
      "targtype1_txt  ->  19\n",
      "targsubtype1  ->  93\n",
      "targsubtype1_txt  ->  94\n",
      "natlty1  ->  103\n",
      "natlty1_txt  ->  104\n",
      "gname  ->  347\n",
      "guncertain1  ->  2\n",
      "individual  ->  2\n",
      "nperps  ->  56\n",
      "nperpcap  ->  19\n",
      "claimed  ->  2\n",
      "weaptype1  ->  9\n",
      "weaptype1_txt  ->  9\n",
      "weapsubtype1  ->  30\n",
      "weapsubtype1_txt  ->  31\n",
      "nkill  ->  99\n",
      "nkillus  ->  8\n",
      "nkillter  ->  70\n",
      "nwound  ->  77\n",
      "nwoundus  ->  15\n",
      "nwoundte  ->  35\n",
      "property  ->  3\n",
      "ishostkid  ->  3\n",
      "INT_LOG  ->  3\n",
      "INT_IDEO  ->  3\n",
      "INT_MISC  ->  2\n",
      "INT_ANY  ->  3\n"
     ]
    }
   ],
   "source": [
    "# Verificar la cantidad de valores unicos por columna \n",
    "data = data_preliminar.copy()\n",
    "\n",
    "print(\"Datos únicos por columna\")\n",
    "for i in data:\n",
    "    print(i, \" -> \", len(data[i].unique()))"
   ]
  },
  {
   "cell_type": "code",
   "execution_count": null,
   "metadata": {},
   "outputs": [],
   "source": []
  }
 ],
 "metadata": {
  "kernelspec": {
   "display_name": "Python 3",
   "language": "python",
   "name": "python3"
  },
  "language_info": {
   "codemirror_mode": {
    "name": "ipython",
    "version": 3
   },
   "file_extension": ".py",
   "mimetype": "text/x-python",
   "name": "python",
   "nbconvert_exporter": "python",
   "pygments_lexer": "ipython3",
   "version": "3.7.6"
  }
 },
 "nbformat": 4,
 "nbformat_minor": 4
}
